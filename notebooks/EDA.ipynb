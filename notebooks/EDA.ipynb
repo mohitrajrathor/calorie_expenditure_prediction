{
 "cells": [
  {
   "cell_type": "code",
   "execution_count": null,
   "id": "4070c1f0",
   "metadata": {},
   "outputs": [
    {
     "name": "stdout",
     "output_type": "stream",
     "text": [
      "Collecting update\n",
      "  Downloading update-0.0.1-py2.py3-none-any.whl.metadata (696 bytes)\n",
      "Requirement already satisfied: kaggle in /home/mohitrajrathor/miniconda3/lib/python3.12/site-packages (1.6.17)\n",
      "Collecting style==1.1.0 (from update)\n",
      "  Downloading style-1.1.0-py2.py3-none-any.whl.metadata (2.8 kB)\n",
      "Requirement already satisfied: six>=1.10 in /home/mohitrajrathor/miniconda3/lib/python3.12/site-packages (from kaggle) (1.17.0)\n",
      "Requirement already satisfied: certifi>=2023.7.22 in /home/mohitrajrathor/miniconda3/lib/python3.12/site-packages (from kaggle) (2024.8.30)\n",
      "Requirement already satisfied: python-dateutil in /home/mohitrajrathor/miniconda3/lib/python3.12/site-packages (from kaggle) (2.9.0.post0)\n",
      "Requirement already satisfied: requests in /home/mohitrajrathor/miniconda3/lib/python3.12/site-packages (from kaggle) (2.32.3)\n",
      "Requirement already satisfied: tqdm in /home/mohitrajrathor/miniconda3/lib/python3.12/site-packages (from kaggle) (4.66.5)\n",
      "Requirement already satisfied: python-slugify in /home/mohitrajrathor/miniconda3/lib/python3.12/site-packages (from kaggle) (8.0.4)\n",
      "Requirement already satisfied: urllib3 in /home/mohitrajrathor/miniconda3/lib/python3.12/site-packages (from kaggle) (2.2.3)\n",
      "Requirement already satisfied: bleach in /home/mohitrajrathor/miniconda3/lib/python3.12/site-packages (from kaggle) (6.2.0)\n",
      "Requirement already satisfied: webencodings in /home/mohitrajrathor/miniconda3/lib/python3.12/site-packages (from bleach->kaggle) (0.5.1)\n",
      "Requirement already satisfied: text-unidecode>=1.3 in /home/mohitrajrathor/miniconda3/lib/python3.12/site-packages (from python-slugify->kaggle) (1.3)\n",
      "Requirement already satisfied: charset-normalizer<4,>=2 in /home/mohitrajrathor/miniconda3/lib/python3.12/site-packages (from requests->kaggle) (3.3.2)\n",
      "Requirement already satisfied: idna<4,>=2.5 in /home/mohitrajrathor/miniconda3/lib/python3.12/site-packages (from requests->kaggle) (3.7)\n",
      "Downloading update-0.0.1-py2.py3-none-any.whl (2.9 kB)\n",
      "Downloading style-1.1.0-py2.py3-none-any.whl (6.4 kB)\n",
      "Installing collected packages: style, update\n",
      "Successfully installed style-1.1.0 update-0.0.1\n"
     ]
    }
   ],
   "source": [
    "# ! pip install update kaggle\n",
    "! kaggle competitions "
   ]
  },
  {
   "cell_type": "code",
   "execution_count": null,
   "id": "5fa26855",
   "metadata": {},
   "outputs": [],
   "source": []
  }
 ],
 "metadata": {
  "kernelspec": {
   "display_name": "base",
   "language": "python",
   "name": "python3"
  },
  "language_info": {
   "codemirror_mode": {
    "name": "ipython",
    "version": 3
   },
   "file_extension": ".py",
   "mimetype": "text/x-python",
   "name": "python",
   "nbconvert_exporter": "python",
   "pygments_lexer": "ipython3",
   "version": "3.12.8"
  }
 },
 "nbformat": 4,
 "nbformat_minor": 5
}
